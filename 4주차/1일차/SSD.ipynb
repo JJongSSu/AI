{
 "cells": [
  {
   "cell_type": "code",
   "execution_count": 7,
   "metadata": {},
   "outputs": [
    {
     "name": "stdout",
     "output_type": "stream",
     "text": [
      "^C\n",
      "Package                Version\n",
      "---------------------- ---------\n",
      "brotlipy               0.7.0\n",
      "certifi                2021.10.8\n",
      "cffi                   1.15.0\n",
      "charset-normalizer     2.0.4\n",
      "colorama               0.4.4\n",
      "conda                  4.12.0\n",
      "conda-content-trust    0+unknown\n",
      "conda-package-handling 1.8.1\n",
      "cryptography           36.0.0\n",
      "idna                   3.3\n",
      "menuinst               1.4.18\n",
      "pip                    21.2.4\n",
      "pycosat                0.6.3\n",
      "pycparser              2.21\n",
      "pyOpenSSL              22.0.0\n",
      "PySocks                1.7.1\n",
      "pywin32                302\n",
      "requests               2.27.1\n",
      "ruamel-yaml-conda      0.15.100\n",
      "setuptools             61.2.0\n",
      "six                    1.16.0\n",
      "tqdm                   4.63.0\n",
      "urllib3                1.26.8\n",
      "wheel                  0.37.1\n",
      "win-inet-pton          1.1.0\n",
      "wincertstore           0.2\n"
     ]
    }
   ],
   "source": [
    "!pip install numpy>=1.19.0 tensorflow>=2.4 keras>=2.4.2 h5py==2.8.0\n",
    "#hdf5==1.10.2\n",
    "!pip list"
   ]
  },
  {
   "cell_type": "code",
   "execution_count": null,
   "metadata": {},
   "outputs": [],
   "source": []
  },
  {
   "cell_type": "code",
   "execution_count": null,
   "metadata": {},
   "outputs": [],
   "source": []
  },
  {
   "cell_type": "code",
   "execution_count": null,
   "metadata": {},
   "outputs": [],
   "source": []
  },
  {
   "cell_type": "code",
   "execution_count": null,
   "metadata": {},
   "outputs": [],
   "source": []
  },
  {
   "cell_type": "code",
   "execution_count": null,
   "metadata": {},
   "outputs": [],
   "source": []
  },
  {
   "cell_type": "code",
   "execution_count": null,
   "metadata": {},
   "outputs": [],
   "source": []
  },
  {
   "cell_type": "code",
   "execution_count": null,
   "metadata": {},
   "outputs": [],
   "source": []
  }
 ],
 "metadata": {
  "kernelspec": {
   "display_name": "Python 3.8.9 64-bit",
   "language": "python",
   "name": "python3"
  },
  "language_info": {
   "codemirror_mode": {
    "name": "ipython",
    "version": 3
   },
   "file_extension": ".py",
   "mimetype": "text/x-python",
   "name": "python",
   "nbconvert_exporter": "python",
   "pygments_lexer": "ipython3",
   "version": "3.8.9"
  },
  "orig_nbformat": 4,
  "vscode": {
   "interpreter": {
    "hash": "6a926afa313b26ae1264fdcf81c726a97e69f6ba2ba780f6aa901948710f8d6e"
   }
  }
 },
 "nbformat": 4,
 "nbformat_minor": 2
}
