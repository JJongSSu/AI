{
 "cells": [
  {
   "cell_type": "code",
   "execution_count": 1,
   "metadata": {},
   "outputs": [],
   "source": [
    "from sklearn.datasets import load_breast_cancer\n",
    "from sklearn.model_selection import train_test_split"
   ]
  },
  {
   "cell_type": "code",
   "execution_count": 2,
   "metadata": {},
   "outputs": [
    {
     "data": {
      "text/plain": [
       "dict_keys(['data', 'target', 'frame', 'target_names', 'DESCR', 'feature_names', 'filename', 'data_module'])"
      ]
     },
     "execution_count": 2,
     "metadata": {},
     "output_type": "execute_result"
    }
   ],
   "source": [
    "cancer = load_breast_cancer()\n",
    "cancer.keys()"
   ]
  },
  {
   "cell_type": "code",
   "execution_count": 3,
   "metadata": {},
   "outputs": [],
   "source": [
    "X_train, X_test, y_train, y_test = train_test_split(cancer['data'], cancer.target, random_state=0)"
   ]
  },
  {
   "cell_type": "markdown",
   "metadata": {},
   "source": [
    "### 1. standardscaler\n",
    "- 각 데이터의 feature들의 평균을 0, 분산을 1로 변경\n",
    "- 모든 feature들이 같은 스케일을 가지게 됨"
   ]
  },
  {
   "cell_type": "code",
   "execution_count": 4,
   "metadata": {},
   "outputs": [],
   "source": [
    "from sklearn.preprocessing import StandardScaler"
   ]
  },
  {
   "cell_type": "code",
   "execution_count": 6,
   "metadata": {},
   "outputs": [
    {
     "data": {
      "text/plain": [
       "StandardScaler()"
      ]
     },
     "execution_count": 6,
     "metadata": {},
     "output_type": "execute_result"
    }
   ],
   "source": [
    "scaler1 = StandardScaler()\n",
    "scaler1.fit(X_train)"
   ]
  },
  {
   "cell_type": "code",
   "execution_count": 7,
   "metadata": {},
   "outputs": [],
   "source": [
    "X_scaled = scaler1.transform(X_train)"
   ]
  },
  {
   "cell_type": "code",
   "execution_count": 8,
   "metadata": {},
   "outputs": [
    {
     "name": "stdout",
     "output_type": "stream",
     "text": [
      "[6.981e+00 9.710e+00 4.379e+01 1.435e+02 5.263e-02 1.938e-02 0.000e+00\n",
      " 0.000e+00 1.060e-01 4.996e-02 1.115e-01 3.628e-01 7.570e-01 7.228e+00\n",
      " 1.713e-03 2.252e-03 0.000e+00 0.000e+00 7.882e-03 8.948e-04 7.930e+00\n",
      " 1.202e+01 5.041e+01 1.852e+02 7.117e-02 2.729e-02 0.000e+00 0.000e+00\n",
      " 1.565e-01 5.504e-02]\n",
      "[2.811e+01 3.381e+01 1.885e+02 2.501e+03 1.447e-01 3.114e-01 4.268e-01\n",
      " 2.012e-01 3.040e-01 9.744e-02 2.873e+00 4.885e+00 2.198e+01 5.422e+02\n",
      " 2.333e-02 1.064e-01 3.960e-01 5.279e-02 6.146e-02 2.984e-02 3.604e+01\n",
      " 4.954e+01 2.512e+02 4.254e+03 2.226e-01 1.058e+00 1.252e+00 2.903e-01\n",
      " 6.638e-01 2.075e-01]\n",
      "[-2.02304051 -2.31265646 -1.98102078 -1.43031247 -3.16043159 -1.66502629\n",
      " -1.13037758 -1.26748337 -2.69245547 -1.84928844 -1.02253911 -1.55688818\n",
      " -1.01199829 -0.69064562 -1.86789242 -1.34651102 -1.00915683 -1.98136529\n",
      " -1.53238992 -1.07259928 -1.71542529 -2.2481009  -1.68161632 -1.19940347\n",
      " -2.67791268 -1.48658803 -1.36015587 -1.75887319 -2.10621594 -1.60344965]\n",
      "[ 3.93179406  3.5400153   3.94763309  5.11826642  3.49269239  4.10343117\n",
      "  4.31174808  3.92170223  4.46590352  5.08792003  8.60510904  6.73170851\n",
      "  9.29407305 10.3491437   5.7886735   4.79720549 11.59761511  6.95731426\n",
      "  5.00715477  9.94484456  4.03414639  3.94582347  4.23699685  5.74792023\n",
      "  3.93375882  5.30687697  4.95908146  2.6703755   5.91848551  6.97408433]\n"
     ]
    }
   ],
   "source": [
    "print(X_train.min(axis=0))\n",
    "print(X_train.max(axis=0))\n",
    "print(X_scaled.min(axis=0))\n",
    "print(X_scaled.max(axis=0))"
   ]
  },
  {
   "cell_type": "markdown",
   "metadata": {},
   "source": [
    "### 2. RobustScaler\n",
    "- 모든 feature가 같은 크기를 같는다는 점에서 standardscaler와 비슷하지만, 평균이나 분산 대신에 median과 quartile(4분위수)을 사용\n",
    "- 이상치의 영향을 받지 않는다"
   ]
  },
  {
   "cell_type": "code",
   "execution_count": 9,
   "metadata": {},
   "outputs": [],
   "source": [
    "from sklearn.preprocessing import RobustScaler\n",
    "\n",
    "scaler2 = RobustScaler()\n",
    "X_scaled2 = scaler2.fit_transform(X_train)"
   ]
  },
  {
   "cell_type": "code",
   "execution_count": 10,
   "metadata": {},
   "outputs": [
    {
     "name": "stdout",
     "output_type": "stream",
     "text": [
      "[6.981e+00 9.710e+00 4.379e+01 1.435e+02 5.263e-02 1.938e-02 0.000e+00\n",
      " 0.000e+00 1.060e-01 4.996e-02 1.115e-01 3.628e-01 7.570e-01 7.228e+00\n",
      " 1.713e-03 2.252e-03 0.000e+00 0.000e+00 7.882e-03 8.948e-04 7.930e+00\n",
      " 1.202e+01 5.041e+01 1.852e+02 7.117e-02 2.729e-02 0.000e+00 0.000e+00\n",
      " 1.565e-01 5.504e-02]\n",
      "[2.811e+01 3.381e+01 1.885e+02 2.501e+03 1.447e-01 3.114e-01 4.268e-01\n",
      " 2.012e-01 3.040e-01 9.744e-02 2.873e+00 4.885e+00 2.198e+01 5.422e+02\n",
      " 2.333e-02 1.064e-01 3.960e-01 5.279e-02 6.146e-02 2.984e-02 3.604e+01\n",
      " 4.954e+01 2.512e+02 4.254e+03 2.226e-01 1.058e+00 1.252e+00 2.903e-01\n",
      " 6.638e-01 2.075e-01]\n",
      "[-1.58561686 -1.67896679 -1.5013689  -1.16660726 -2.30881961 -1.19057491\n",
      " -0.63597464 -0.62177215 -2.15384615 -1.44313968 -0.8600647  -1.18226678\n",
      " -0.87312212 -0.61824912 -1.55668617 -0.97626846 -1.05423348 -1.56999564\n",
      " -1.36098175 -0.97051424 -1.18334735 -1.63681438 -1.13928636 -0.87578375\n",
      " -2.036      -0.98594566 -0.8783887  -1.02631852 -1.7636235  -1.22475089]\n",
      "[ 3.65406076  2.76752768  3.61070388  5.55614173  2.59765521  3.46646998\n",
      "  3.76470588  3.08271577  3.70414201  4.42583436 10.6665971   5.90193468\n",
      " 11.75397888 19.18452711  5.77546002  4.61557047 15.12388929  6.1040849\n",
      "  5.38263059 11.80600309  3.54499579  3.01394484  3.70983517  6.26027097\n",
      "  3.01166667  4.39916405  3.90206186  1.98759344  5.4168436   6.27727888]\n"
     ]
    }
   ],
   "source": [
    "print(X_train.min(axis=0))\n",
    "print(X_train.max(axis=0))\n",
    "print(X_scaled2.min(axis=0))\n",
    "print(X_scaled2.max(axis=0))"
   ]
  },
  {
   "cell_type": "markdown",
   "metadata": {},
   "source": [
    "### 3. MinMaxscaler\n",
    "- 모든 feature가 0과 1사이에 위치하게 만듬\n",
    "- 데이터가 2차원 set일 경우, 모든 데이터는 x축의 0과 1 사이에 y축의 0과 1 사이에 위치"
   ]
  },
  {
   "cell_type": "code",
   "execution_count": 11,
   "metadata": {},
   "outputs": [],
   "source": [
    "from sklearn.preprocessing import MinMaxScaler"
   ]
  },
  {
   "cell_type": "code",
   "execution_count": 12,
   "metadata": {},
   "outputs": [],
   "source": [
    "scaler3 = MinMaxScaler()\n",
    "X_scaled3 = scaler3.fit_transform(X_train)"
   ]
  },
  {
   "cell_type": "code",
   "execution_count": 13,
   "metadata": {},
   "outputs": [
    {
     "name": "stdout",
     "output_type": "stream",
     "text": [
      "[6.981e+00 9.710e+00 4.379e+01 1.435e+02 5.263e-02 1.938e-02 0.000e+00\n",
      " 0.000e+00 1.060e-01 4.996e-02 1.115e-01 3.628e-01 7.570e-01 7.228e+00\n",
      " 1.713e-03 2.252e-03 0.000e+00 0.000e+00 7.882e-03 8.948e-04 7.930e+00\n",
      " 1.202e+01 5.041e+01 1.852e+02 7.117e-02 2.729e-02 0.000e+00 0.000e+00\n",
      " 1.565e-01 5.504e-02]\n",
      "[2.811e+01 3.381e+01 1.885e+02 2.501e+03 1.447e-01 3.114e-01 4.268e-01\n",
      " 2.012e-01 3.040e-01 9.744e-02 2.873e+00 4.885e+00 2.198e+01 5.422e+02\n",
      " 2.333e-02 1.064e-01 3.960e-01 5.279e-02 6.146e-02 2.984e-02 3.604e+01\n",
      " 4.954e+01 2.512e+02 4.254e+03 2.226e-01 1.058e+00 1.252e+00 2.903e-01\n",
      " 6.638e-01 2.075e-01]\n",
      "[0. 0. 0. 0. 0. 0. 0. 0. 0. 0. 0. 0. 0. 0. 0. 0. 0. 0. 0. 0. 0. 0. 0. 0.\n",
      " 0. 0. 0. 0. 0. 0.]\n",
      "[1. 1. 1. 1. 1. 1. 1. 1. 1. 1. 1. 1. 1. 1. 1. 1. 1. 1. 1. 1. 1. 1. 1. 1.\n",
      " 1. 1. 1. 1. 1. 1.]\n"
     ]
    }
   ],
   "source": [
    "print(X_train.min(axis=0))\n",
    "print(X_train.max(axis=0))\n",
    "print(X_scaled3.min(axis=0))\n",
    "print(X_scaled3.max(axis=0))"
   ]
  },
  {
   "cell_type": "markdown",
   "metadata": {},
   "source": [
    "### 4. normalizer\n",
    "- standardscaler, robustscaler, minmaxscaler : 각 컬럼별(feature별)로 스케일을 조절하는게 아니라 행(row)별로 정규화\n",
    "- normalizer : 빠르게 학습, 과대적합 확률을 낮출 수 있음(모든 scaler 장점)"
   ]
  },
  {
   "cell_type": "code",
   "execution_count": 14,
   "metadata": {},
   "outputs": [],
   "source": [
    "from sklearn.preprocessing import Normalizer"
   ]
  },
  {
   "cell_type": "code",
   "execution_count": 16,
   "metadata": {},
   "outputs": [],
   "source": [
    "scaler4 = Normalizer()\n",
    "scaler4.fit(X_train)\n",
    "X_scaled4 = scaler4.transform(X_train)"
   ]
  },
  {
   "cell_type": "code",
   "execution_count": 17,
   "metadata": {},
   "outputs": [
    {
     "name": "stdout",
     "output_type": "stream",
     "text": [
      "[6.981e+00 9.710e+00 4.379e+01 1.435e+02 5.263e-02 1.938e-02 0.000e+00\n",
      " 0.000e+00 1.060e-01 4.996e-02 1.115e-01 3.628e-01 7.570e-01 7.228e+00\n",
      " 1.713e-03 2.252e-03 0.000e+00 0.000e+00 7.882e-03 8.948e-04 7.930e+00\n",
      " 1.202e+01 5.041e+01 1.852e+02 7.117e-02 2.729e-02 0.000e+00 0.000e+00\n",
      " 1.565e-01 5.504e-02]\n",
      "[2.811e+01 3.381e+01 1.885e+02 2.501e+03 1.447e-01 3.114e-01 4.268e-01\n",
      " 2.012e-01 3.040e-01 9.744e-02 2.873e+00 4.885e+00 2.198e+01 5.422e+02\n",
      " 2.333e-02 1.064e-01 3.960e-01 5.279e-02 6.146e-02 2.984e-02 3.604e+01\n",
      " 4.954e+01 2.512e+02 4.254e+03 2.226e-01 1.058e+00 1.252e+00 2.903e-01\n",
      " 6.638e-01 2.075e-01]\n",
      "[5.51189319e-03 4.56825580e-03 3.63962422e-02 3.76233264e-01\n",
      " 2.17902707e-05 2.37805701e-05 0.00000000e+00 0.00000000e+00\n",
      " 4.14296567e-05 1.13032004e-05 1.38230416e-04 2.22630519e-04\n",
      " 8.95949678e-04 1.14342671e-02 1.17600717e-06 2.76335624e-06\n",
      " 0.00000000e+00 0.00000000e+00 3.33747542e-06 5.12412074e-07\n",
      " 7.24466195e-03 5.15445862e-03 5.04955350e-02 6.96047105e-01\n",
      " 2.72780418e-05 4.21129601e-05 0.00000000e+00 0.00000000e+00\n",
      " 4.59910547e-05 1.49295517e-05]\n",
      "[2.84700680e-02 8.66088059e-02 1.78585343e-01 6.97400762e-01\n",
      " 4.77151978e-04 5.03168358e-04 8.25977854e-04 1.60675994e-04\n",
      " 7.87096852e-04 3.18835398e-04 1.65778661e-03 1.13783731e-02\n",
      " 9.38365082e-03 1.46680208e-01 6.14437683e-05 2.19824316e-04\n",
      " 7.96220132e-04 1.06142578e-04 1.81992000e-04 5.99980019e-05\n",
      " 3.23403007e-02 1.08567406e-01 2.05583173e-01 9.21243290e-01\n",
      " 6.45990370e-04 1.47441480e-03 2.97381613e-03 4.15669188e-04\n",
      " 1.19573470e-03 4.44506641e-04]\n"
     ]
    }
   ],
   "source": [
    "print(X_train.min(axis=0))\n",
    "print(X_train.max(axis=0))\n",
    "print(X_scaled4.min(axis=0))\n",
    "print(X_scaled4.max(axis=0))"
   ]
  },
  {
   "cell_type": "markdown",
   "metadata": {},
   "source": [
    "모델에 스케일링된 데이터 적용"
   ]
  },
  {
   "cell_type": "code",
   "execution_count": 18,
   "metadata": {},
   "outputs": [],
   "source": [
    "from sklearn.svm import SVC"
   ]
  },
  {
   "cell_type": "code",
   "execution_count": 19,
   "metadata": {},
   "outputs": [
    {
     "data": {
      "text/plain": [
       "SVC()"
      ]
     },
     "execution_count": 19,
     "metadata": {},
     "output_type": "execute_result"
    }
   ],
   "source": [
    "svc = SVC()\n",
    "svc.fit(X_train, y_train)"
   ]
  },
  {
   "cell_type": "code",
   "execution_count": 20,
   "metadata": {},
   "outputs": [
    {
     "name": "stdout",
     "output_type": "stream",
     "text": [
      "0.9370629370629371\n",
      "0.903755868544601\n"
     ]
    }
   ],
   "source": [
    "print(svc.score(X_test, y_test))\n",
    "print(svc.score(X_train, y_train))"
   ]
  },
  {
   "cell_type": "code",
   "execution_count": 21,
   "metadata": {},
   "outputs": [],
   "source": [
    "scaler = StandardScaler()\n",
    "scaler.fit(X_train)\n",
    "X_train_scaled = scaler.transform(X_train)\n",
    "X_test_scaled = scaler.transform(X_test)"
   ]
  },
  {
   "cell_type": "code",
   "execution_count": 22,
   "metadata": {},
   "outputs": [
    {
     "data": {
      "text/plain": [
       "SVC()"
      ]
     },
     "execution_count": 22,
     "metadata": {},
     "output_type": "execute_result"
    }
   ],
   "source": [
    "svc1 = SVC()\n",
    "svc1.fit(X_train_scaled, y_train)"
   ]
  },
  {
   "cell_type": "code",
   "execution_count": 24,
   "metadata": {},
   "outputs": [
    {
     "name": "stdout",
     "output_type": "stream",
     "text": [
      "0.965034965034965\n",
      "0.9859154929577465\n"
     ]
    }
   ],
   "source": [
    "print(svc1.score(X_test_scaled, y_test))\n",
    "print(svc1.score(X_train_scaled, y_train))"
   ]
  },
  {
   "cell_type": "code",
   "execution_count": 25,
   "metadata": {},
   "outputs": [],
   "source": [
    "scaler1 = RobustScaler()\n",
    "scaler1.fit(X_train)\n",
    "X_train_scaled1 = scaler1.transform(X_train)\n",
    "X_test_scaled1 = scaler1.transform(X_test)"
   ]
  },
  {
   "cell_type": "code",
   "execution_count": 26,
   "metadata": {},
   "outputs": [
    {
     "data": {
      "text/plain": [
       "SVC()"
      ]
     },
     "execution_count": 26,
     "metadata": {},
     "output_type": "execute_result"
    }
   ],
   "source": [
    "svc2 = SVC()\n",
    "svc2.fit(X_train_scaled1, y_train)"
   ]
  },
  {
   "cell_type": "code",
   "execution_count": 27,
   "metadata": {},
   "outputs": [
    {
     "name": "stdout",
     "output_type": "stream",
     "text": [
      "0.9230769230769231\n",
      "0.9647887323943662\n"
     ]
    }
   ],
   "source": [
    "print(svc1.score(X_test_scaled1, y_test))\n",
    "print(svc1.score(X_train_scaled1, y_train))"
   ]
  },
  {
   "cell_type": "code",
   "execution_count": 32,
   "metadata": {},
   "outputs": [],
   "source": [
    "scaler2 = MinMaxScaler()\n",
    "X_train_scaled2 = scaler2.fit_transform(X_train)\n",
    "X_test_scaled2 = scaler2.transform(X_test)"
   ]
  },
  {
   "cell_type": "code",
   "execution_count": 33,
   "metadata": {},
   "outputs": [
    {
     "name": "stdout",
     "output_type": "stream",
     "text": [
      "0.972027972027972\n",
      "0.9835680751173709\n"
     ]
    }
   ],
   "source": [
    "svc3 = SVC()\n",
    "svc3.fit(X_train_scaled2, y_train)\n",
    "print(svc3.score(X_test_scaled2, y_test))\n",
    "print(svc3.score(X_train_scaled2, y_train))"
   ]
  },
  {
   "cell_type": "code",
   "execution_count": 34,
   "metadata": {},
   "outputs": [],
   "source": [
    "scaler3 = Normalizer()\n",
    "X_train_scaled3 = scaler3.fit_transform(X_train)\n",
    "X_test_scaled3 = scaler3.transform(X_test)"
   ]
  },
  {
   "cell_type": "code",
   "execution_count": 35,
   "metadata": {},
   "outputs": [
    {
     "name": "stdout",
     "output_type": "stream",
     "text": [
      "0.8811188811188811\n",
      "0.8943661971830986\n"
     ]
    }
   ],
   "source": [
    "svc4 = SVC()\n",
    "svc4.fit(X_train_scaled3, y_train)\n",
    "print(svc4.score(X_test_scaled3, y_test))\n",
    "print(svc4.score(X_train_scaled3, y_train))"
   ]
  },
  {
   "cell_type": "code",
   "execution_count": null,
   "metadata": {},
   "outputs": [],
   "source": []
  }
 ],
 "metadata": {
  "kernelspec": {
   "display_name": "Python 3.9.12 ('base')",
   "language": "python",
   "name": "python3"
  },
  "language_info": {
   "codemirror_mode": {
    "name": "ipython",
    "version": 3
   },
   "file_extension": ".py",
   "mimetype": "text/x-python",
   "name": "python",
   "nbconvert_exporter": "python",
   "pygments_lexer": "ipython3",
   "version": "3.9.12"
  },
  "orig_nbformat": 4,
  "vscode": {
   "interpreter": {
    "hash": "a077222d77dfe082b8f1dd562ad70e458ac2ab76993a0b248ab0476e32e9e8dd"
   }
  }
 },
 "nbformat": 4,
 "nbformat_minor": 2
}
